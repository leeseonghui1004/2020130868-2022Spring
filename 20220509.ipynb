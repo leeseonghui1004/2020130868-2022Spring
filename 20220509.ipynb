{
  "nbformat": 4,
  "nbformat_minor": 0,
  "metadata": {
    "colab": {
      "name": "20220509.ipynb",
      "provenance": [],
      "authorship_tag": "ABX9TyMYHlktZi55Jh5tz4e5C3U6",
      "include_colab_link": true
    },
    "kernelspec": {
      "name": "python3",
      "display_name": "Python 3"
    },
    "language_info": {
      "name": "python"
    }
  },
  "cells": [
    {
      "cell_type": "markdown",
      "metadata": {
        "id": "view-in-github",
        "colab_type": "text"
      },
      "source": [
        "<a href=\"https://colab.research.google.com/github/leeseonghui1004/leeseonghui-2022Spring/blob/main/20220509.ipynb\" target=\"_parent\"><img src=\"https://colab.research.google.com/assets/colab-badge.svg\" alt=\"Open In Colab\"/></a>"
      ]
    },
    {
      "cell_type": "code",
      "execution_count": null,
      "metadata": {
        "id": "WZuSqyZPDVO_"
      },
      "outputs": [],
      "source": [
        ""
      ]
    }
  ]
}