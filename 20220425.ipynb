{
  "nbformat": 4,
  "nbformat_minor": 0,
  "metadata": {
    "colab": {
      "name": "20220425.ipynb",
      "provenance": [],
      "authorship_tag": "ABX9TyO9tbfhFgUC7YWlj9VaKKr8",
      "include_colab_link": true
    },
    "kernelspec": {
      "name": "python3",
      "display_name": "Python 3"
    },
    "language_info": {
      "name": "python"
    }
  },
  "cells": [
    {
      "cell_type": "markdown",
      "metadata": {
        "id": "view-in-github",
        "colab_type": "text"
      },
      "source": [
        "<a href=\"https://colab.research.google.com/github/leeseonghui1004/leeseonghui-2022Spring/blob/main/20220425.ipynb\" target=\"_parent\"><img src=\"https://colab.research.google.com/assets/colab-badge.svg\" alt=\"Open In Colab\"/></a>"
      ]
    },
    {
      "cell_type": "markdown",
      "source": [
        "**Auto Correlation**\n",
        ": 주어진 시계열과 연속적인 시간 간격에 대한 지연 버전 간의 유사성 정도를 수학적으로 표현한 것\n",
        "- 변수의 현재 값과 과거 값 간의 관계를 측정\n",
        "- +1의 auto correlation은 완전한 양의 상관 관계를 나타내고 -1의 auto correlation은 완전한 음의 상관 관계\n",
        "- 기술 분석가는 auto correlation을 사용하여 유가 증권의 과거 가격이 미래 가격에 미치는 영향을 측정 가능\n",
        "\n"
      ],
      "metadata": {
        "id": "j7OwHefIolkf"
      }
    },
    {
      "cell_type": "code",
      "source": [
        "import numpy as np\n",
        "\n",
        "x=[0.16, 0.33, 0.47, 0.51, 0.89]\n",
        "result=np.correlate(x, x, mode='full')\n",
        "print(result)"
      ],
      "metadata": {
        "colab": {
          "base_uri": "https://localhost:8080/"
        },
        "id": "lbEW9jHUpLiQ",
        "outputId": "8e1eb09f-027b-40b5-8b62-c6daa199ff07"
      },
      "execution_count": 8,
      "outputs": [
        {
          "output_type": "stream",
          "name": "stdout",
          "text": [
            "[0.1424 0.3753 0.6618 0.9015 1.4076 0.9015 0.6618 0.3753 0.1424]\n"
          ]
        }
      ]
    },
    {
      "cell_type": "markdown",
      "source": [
        "**RMS(Root Mean Square)**\n",
        ":원래의 값(혹은 연속시간 파형을 정의하는 함수의 제곱)의 제곱들에 대한 산술평균(평균)의 제곱근\n",
        "- 변화하는 값의 크기에 대한 통계적 척도\n",
        "- 사인함수처럼 변수들이 음과 양을 오고 갈 때에 유용"
      ],
      "metadata": {
        "id": "eO9O-vDnpMS4"
      }
    },
    {
      "cell_type": "code",
      "source": [
        "def square_root(num):\n",
        "    return num**0.5\n",
        "print(square_root(20))"
      ],
      "metadata": {
        "colab": {
          "base_uri": "https://localhost:8080/"
        },
        "id": "1RO7A-kApiSP",
        "outputId": "71552403-eb14-418a-83c2-e18f43fb28bc"
      },
      "execution_count": 9,
      "outputs": [
        {
          "output_type": "stream",
          "name": "stdout",
          "text": [
            "4.47213595499958\n"
          ]
        }
      ]
    },
    {
      "cell_type": "code",
      "source": [
        "import matplotlib.pyplot as plt\n",
        "\n",
        "X=3*np.random.rand(5000, 1)\n",
        "X_b=np.c_[np.ones((5000, 1)), X]\n",
        "Y=11+5*X+np.random.randn(5000, 1)\n",
        "plt.plot(X, Y, '.')"
      ],
      "metadata": {
        "colab": {
          "base_uri": "https://localhost:8080/",
          "height": 284
        },
        "id": "9cG3JIYUxCNz",
        "outputId": "9091f892-ac93-4548-e09f-3b114644d698"
      },
      "execution_count": 12,
      "outputs": [
        {
          "output_type": "execute_result",
          "data": {
            "text/plain": [
              "[<matplotlib.lines.Line2D at 0x7f9b6243b510>]"
            ]
          },
          "metadata": {},
          "execution_count": 12
        },
        {
          "output_type": "display_data",
          "data": {
            "text/plain": [
              "<Figure size 432x288 with 1 Axes>"
            ],
            "image/png": "[encoded data removed]"
          },
          "metadata": {
            "needs_background": "light"
          }
        }
      ]
    }
  ]
}