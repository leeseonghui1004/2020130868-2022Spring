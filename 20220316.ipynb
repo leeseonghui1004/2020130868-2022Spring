{
  "nbformat": 4,
  "nbformat_minor": 0,
  "metadata": {
    "colab": {
      "name": "20220316.ipynb",
      "provenance": [],
      "authorship_tag": "ABX9TyNNFtjzb9ljJYfCw1sXDwG6",
      "include_colab_link": true
    },
    "kernelspec": {
      "name": "python3",
      "display_name": "Python 3"
    },
    "language_info": {
      "name": "python"
    }
  },
  "cells": [
    {
      "cell_type": "markdown",
      "metadata": {
        "id": "view-in-github",
        "colab_type": "text"
      },
      "source": [
        "<a href=\"https://colab.research.google.com/github/leeseonghui1004/2020130868-2022Spring/blob/main/20220316.ipynb\" target=\"_parent\"><img src=\"https://colab.research.google.com/assets/colab-badge.svg\" alt=\"Open In Colab\"/></a>"
      ]
    },
    {
      "cell_type": "markdown",
      "source": [
        "✅input->함수->output ; AI도 함수임!\n",
        "✅data = text, sound, image\n",
        "✅변수: 숫자, 문자, list, dict 등 -> programming language에서 language=words=변수(variable)\n",
        "✅문법(syntax): 조건(if), 반복(for)\n",
        "\n",
        "---\n",
        "☑ int: 정수, float: 실수, value: 변수가 갖고 있는 content\n",
        "\n",
        "\n"
      ],
      "metadata": {
        "id": "rf8p9Hxjm1Xb"
      }
    },
    {
      "cell_type": "code",
      "execution_count": null,
      "metadata": {
        "colab": {
          "base_uri": "https://localhost:8080/"
        },
        "id": "kzxaGNm2cOWE",
        "outputId": "cc3a4787-e54f-43aa-898f-7b46bd2fc26e"
      },
      "outputs": [
        {
          "output_type": "stream",
          "name": "stdout",
          "text": [
            "<class 'int'>\n"
          ]
        }
      ],
      "source": [
        "a=5; print(type(a))"
      ]
    },
    {
      "cell_type": "code",
      "source": [
        "a=1.0; print(type(a))"
      ],
      "metadata": {
        "colab": {
          "base_uri": "https://localhost:8080/"
        },
        "id": "iXOCMbV0oE1I",
        "outputId": "29f0a615-569d-4e02-e65d-334aa2894001"
      },
      "execution_count": null,
      "outputs": [
        {
          "output_type": "stream",
          "name": "stdout",
          "text": [
            "<class 'float'>\n"
          ]
        }
      ]
    },
    {
      "cell_type": "code",
      "source": [
        "a='365'; print(type(a))"
      ],
      "metadata": {
        "colab": {
          "base_uri": "https://localhost:8080/"
        },
        "id": "uwc-rsSUoUer",
        "outputId": "b98963ea-0564-4e41-adef-c4a0f8eaf917"
      },
      "execution_count": null,
      "outputs": [
        {
          "output_type": "stream",
          "name": "stdout",
          "text": [
            "<class 'str'>\n"
          ]
        }
      ]
    },
    {
      "cell_type": "code",
      "source": [
        "a=[2, 4, 6, 8]; print(type(a))"
      ],
      "metadata": {
        "colab": {
          "base_uri": "https://localhost:8080/"
        },
        "id": "zvhMHl-8okjn",
        "outputId": "e2c62980-58d5-4072-c44f-a1c58a0765b4"
      },
      "execution_count": null,
      "outputs": [
        {
          "output_type": "stream",
          "name": "stdout",
          "text": [
            "<class 'list'>\n"
          ]
        }
      ]
    },
    {
      "cell_type": "markdown",
      "source": [
        "✅list와 tuple은 유사하지만 list는 []를 사용하고 tuple은 ()를 사용함, 또한 tuple은 ()안의 내부적 정보를 바꾸면 error가 남\n",
        "✅dict(=dictionary)는 key와 value로 구성, {}로 표시 \n",
        "\n",
        "\n",
        "---\n",
        "☑ a=[1, 2, 3, 4]일때 1, 2, 3, 4는 순서대로 0번째, 1번째, 2번째, 3번째 또는 -4번째, -3번째, -2번째, -1번째임 \n",
        "☑ [:]는 처음부터 끝까지를 말함\n",
        "☑ [x:y]은 x번째부터 (y-1)번째까지를 말함\n",
        "\n",
        "\n",
        "\n"
      ],
      "metadata": {
        "id": "aXZJYuG8ouZd"
      }
    },
    {
      "cell_type": "code",
      "source": [
        "a=[1,3,7,12]\n",
        "print(a[-4]); print(a[1:4]); print(a[:])"
      ],
      "metadata": {
        "colab": {
          "base_uri": "https://localhost:8080/"
        },
        "id": "hcF_vxz0p4h8",
        "outputId": "55e6a638-e8d2-4b43-dfca-d23ac7e465bb"
      },
      "execution_count": null,
      "outputs": [
        {
          "output_type": "stream",
          "name": "stdout",
          "text": [
            "1\n",
            "[3, 7, 12]\n",
            "[1, 3, 7, 12]\n"
          ]
        }
      ]
    },
    {
      "cell_type": "code",
      "source": [
        "a=[1,'b', [2,4,'11']]\n",
        "a[2][2] #a의 2번째가 [2, 4, '11']인데 그 중 2번째가 '11'임"
      ],
      "metadata": {
        "colab": {
          "base_uri": "https://localhost:8080/",
          "height": 36
        },
        "id": "mz0uczAFqjgq",
        "outputId": "27651ba2-83ea-4fbd-8d3f-0224047849b4"
      },
      "execution_count": null,
      "outputs": [
        {
          "output_type": "execute_result",
          "data": {
            "text/plain": [
              "'11'"
            ],
            "application/vnd.google.colaboratory.intrinsic+json": {
              "type": "string"
            }
          },
          "metadata": {},
          "execution_count": 80
        }
      ]
    },
    {
      "cell_type": "code",
      "source": [
        "a={'a':'animal', 'b':'brown', 'c':'coat'}\n",
        "print(type(a)); print(a['b'])"
      ],
      "metadata": {
        "colab": {
          "base_uri": "https://localhost:8080/"
        },
        "id": "ZSGADXyerbR3",
        "outputId": "f691b8d0-5907-4940-80ba-d636eed3ce54"
      },
      "execution_count": null,
      "outputs": [
        {
          "output_type": "stream",
          "name": "stdout",
          "text": [
            "<class 'dict'>\n",
            "brown\n"
          ]
        }
      ]
    },
    {
      "cell_type": "markdown",
      "source": [
        "✅len(a)=a의 길이, s.upper=string을 소문자에서 대문자로 바꿔줌\n",
        "✅strip은 문장의 처음과 끝의 공백을 삭제함, split은 문장을 단어로 분리함, join은 단어를 문장으로 합침, replace는 문장 안의 단어를 다른 단어로 대체함\n",
        "✅def 함수명(입력변수): ->함수를 정의하기 위한 구문, return 출력변수명 -> 값을 반환함\n",
        " "
      ],
      "metadata": {
        "id": "yNqO77ODsJqf"
      }
    },
    {
      "cell_type": "code",
      "source": [
        "s=' he tries to find him.\\n'\n",
        "s"
      ],
      "metadata": {
        "colab": {
          "base_uri": "https://localhost:8080/",
          "height": 36
        },
        "id": "fjelXv3ytvE4",
        "outputId": "077a4c30-17f0-4c3a-da27-4bea45506a21"
      },
      "execution_count": null,
      "outputs": [
        {
          "output_type": "execute_result",
          "data": {
            "text/plain": [
              "' he tries to find him.\\n'"
            ],
            "application/vnd.google.colaboratory.intrinsic+json": {
              "type": "string"
            }
          },
          "metadata": {},
          "execution_count": 82
        }
      ]
    },
    {
      "cell_type": "code",
      "source": [
        "result=s.find('he')\n",
        "result"
      ],
      "metadata": {
        "colab": {
          "base_uri": "https://localhost:8080/"
        },
        "id": "yJ0OyMgLuO9F",
        "outputId": "4e681724-86aa-4036-bb0d-a7c3f1061b44"
      },
      "execution_count": null,
      "outputs": [
        {
          "output_type": "execute_result",
          "data": {
            "text/plain": [
              "1"
            ]
          },
          "metadata": {},
          "execution_count": 83
        }
      ]
    },
    {
      "cell_type": "code",
      "source": [
        "tokens=s.split(' ')\n",
        "tokens"
      ],
      "metadata": {
        "colab": {
          "base_uri": "https://localhost:8080/"
        },
        "id": "I7zOHf6HuVaw",
        "outputId": "00bd3233-1a9a-422a-dc9d-0d73a7cf908d"
      },
      "execution_count": null,
      "outputs": [
        {
          "output_type": "execute_result",
          "data": {
            "text/plain": [
              "['', 'he', 'tries', 'to', 'find', 'him.\\n']"
            ]
          },
          "metadata": {},
          "execution_count": 84
        }
      ]
    },
    {
      "cell_type": "markdown",
      "source": [
        "✅for i in a: ->a 안에서 처음부터 하나씩 돌림\n",
        "✅if a!=0: ->a가 0이 아니라면\n",
        "\n",
        "---\n",
        "☑ range(4)=[0, 1, 2, 3]\n"
      ],
      "metadata": {
        "id": "1jFNm2N-ur0_"
      }
    },
    {
      "cell_type": "code",
      "source": [
        "a=['you', 'are', 'my', 'best', 'friend']\n",
        "for i in a:\n",
        "  print(i)"
      ],
      "metadata": {
        "colab": {
          "base_uri": "https://localhost:8080/"
        },
        "id": "UL6Ow93yvdTx",
        "outputId": "32671640-183c-483d-bd31-85de48d3415b"
      },
      "execution_count": null,
      "outputs": [
        {
          "output_type": "stream",
          "name": "stdout",
          "text": [
            "you\n",
            "are\n",
            "my\n",
            "best\n",
            "friend\n"
          ]
        }
      ]
    },
    {
      "cell_type": "code",
      "source": [
        "for i in range(2,7):\n",
        "  for j in range(4,8):\n",
        "    print(i*j)"
      ],
      "metadata": {
        "colab": {
          "base_uri": "https://localhost:8080/"
        },
        "id": "HpEYZR0jvyuN",
        "outputId": "fcce04e0-a3e5-4c77-8603-0693d31ec073"
      },
      "execution_count": null,
      "outputs": [
        {
          "output_type": "stream",
          "name": "stdout",
          "text": [
            "8\n",
            "10\n",
            "12\n",
            "14\n",
            "12\n",
            "15\n",
            "18\n",
            "21\n",
            "16\n",
            "20\n",
            "24\n",
            "28\n",
            "20\n",
            "25\n",
            "30\n",
            "35\n",
            "24\n",
            "30\n",
            "36\n",
            "42\n"
          ]
        }
      ]
    },
    {
      "cell_type": "code",
      "source": [
        "a=7\n",
        "if a!=3:\n",
        "  print(a)"
      ],
      "metadata": {
        "colab": {
          "base_uri": "https://localhost:8080/"
        },
        "id": "BI3wQ3IXwUsy",
        "outputId": "0297cb5c-5364-4533-cb9a-c1083f304f01"
      },
      "execution_count": null,
      "outputs": [
        {
          "output_type": "stream",
          "name": "stdout",
          "text": [
            "7\n"
          ]
        }
      ]
    },
    {
      "cell_type": "markdown",
      "source": [
        "✅install->import->built-in\n",
        "✅numpy(=np): 수치(AI, 데이터사이언스)의 가장 중요한 패키지\n",
        "✅hist: 히스토그램 -> y축이 횟수(frequency)를 나타냄\n",
        "✅matrix: 직사각형 숫자 배열(행렬)\n",
        "\n",
        "\n",
        "---\n",
        "☑ import matplotlib\n",
        "matplotlib.pyplot.hist(n) = \n",
        "import matplotlib.pyplot\n",
        "matplotlib.pyplot.hist(n) = \n",
        "import matplotlib.pyplot as plt\n",
        "plt.hist(n) = \n",
        "from matplotlib import pyplot\n",
        "pyplot.hist(n) = \n",
        "from matplotlib.pyplot import hist\n",
        "hist(n) \n"
      ],
      "metadata": {
        "id": "mNmCFBkzw-qW"
      }
    },
    {
      "cell_type": "code",
      "source": [
        "import numpy as np\n",
        "n=np.random.randn(50)"
      ],
      "metadata": {
        "id": "NyBDZUl7xj3a"
      },
      "execution_count": null,
      "outputs": []
    },
    {
      "cell_type": "code",
      "source": [
        "import matplotlib # = import matplotlib.pyplot\n",
        "matplotlib.pyplot.hist(n)"
      ],
      "metadata": {
        "colab": {
          "base_uri": "https://localhost:8080/",
          "height": 359
        },
        "id": "ZAiDGdgO2aPB",
        "outputId": "fc7c6b07-4e2e-49d1-a95f-9dcc4d5c4632"
      },
      "execution_count": null,
      "outputs": [
        {
          "output_type": "execute_result",
          "data": {
            "text/plain": [
              "(array([ 5.,  3.,  5., 12.,  7.,  7.,  5.,  3.,  2.,  1.]),\n",
              " array([-1.83725953, -1.35961183, -0.88196414, -0.40431644,  0.07333125,\n",
              "         0.55097894,  1.02862664,  1.50627433,  1.98392203,  2.46156972,\n",
              "         2.93921741]),\n",
              " <a list of 10 Patch objects>)"
            ]
          },
          "metadata": {},
          "execution_count": 89
        },
        {
          "output_type": "display_data",
          "data": {
            "text/plain": [
              "<Figure size 432x288 with 1 Axes>"
            ],
            "image/png": "[encoded data removed]"
          },
          "metadata": {
            "needs_background": "light"
          }
        }
      ]
    },
    {
      "cell_type": "code",
      "source": [
        "x=np.array([2,4,6])\n",
        "print(x)\n",
        "print(type(x))\n",
        "print(x.shape) #x를 array한 것의 개수"
      ],
      "metadata": {
        "colab": {
          "base_uri": "https://localhost:8080/"
        },
        "id": "E6Xz4IU7xoky",
        "outputId": "c8c94118-811f-4813-93de-d4b3edd809a4"
      },
      "execution_count": null,
      "outputs": [
        {
          "output_type": "stream",
          "name": "stdout",
          "text": [
            "[2 4 6]\n",
            "<class 'numpy.ndarray'>\n",
            "(3,)\n"
          ]
        }
      ]
    },
    {
      "cell_type": "code",
      "source": [
        "x=np.arange(0,10,5) #0부터 9까지 2씩 증가(increment)\n",
        "print(x)\n",
        "print(type(x))\n",
        "print(x.shape)"
      ],
      "metadata": {
        "colab": {
          "base_uri": "https://localhost:8080/"
        },
        "id": "HLL-rB11zLDU",
        "outputId": "51b4aab9-0e56-4f05-9df6-ff19bf051506"
      },
      "execution_count": null,
      "outputs": [
        {
          "output_type": "stream",
          "name": "stdout",
          "text": [
            "[0 5]\n",
            "<class 'numpy.ndarray'>\n",
            "(2,)\n"
          ]
        }
      ]
    },
    {
      "cell_type": "code",
      "source": [
        "x=np.linspace(0,10,4) #0부터 10까지 똑같은 간격으로 숫자 4개 만들기\n",
        "print(x)\n",
        "print(type(x))\n",
        "print(x.shape)"
      ],
      "metadata": {
        "colab": {
          "base_uri": "https://localhost:8080/"
        },
        "id": "2zutme8Qzzt1",
        "outputId": "807ea9f2-c061-4efd-d9b5-d2e05320c9ce"
      },
      "execution_count": null,
      "outputs": [
        {
          "output_type": "stream",
          "name": "stdout",
          "text": [
            "[ 0.          3.33333333  6.66666667 10.        ]\n",
            "<class 'numpy.ndarray'>\n",
            "(4,)\n"
          ]
        }
      ]
    },
    {
      "cell_type": "markdown",
      "source": [
        "✅nd(dimensional)array에서 몇 차원인지 파악하는 방법: output에서 첫 괄호와 마지막 괄호의 개수 확인하기\n",
        "✅상관관계(=correlation): 1에 가까울수록 뚜렷한 그래프, 0에 가까울수록 두루뭉실한 그래프, -1부터 1 중의 값에 해당함"
      ],
      "metadata": {
        "id": "zRHaDBWM0zE_"
      }
    },
    {
      "cell_type": "code",
      "source": [
        "x=np.array([[1,3,5], [2,4,6]])\n",
        "print(x)\n",
        "print(type(x))\n",
        "print(x.shape) #(a,b) a가 row의 수이고 b가 column의 수"
      ],
      "metadata": {
        "colab": {
          "base_uri": "https://localhost:8080/"
        },
        "id": "qE--TQHs0m_q",
        "outputId": "216e6abd-5170-4c28-fcfb-76f389be433a"
      },
      "execution_count": null,
      "outputs": [
        {
          "output_type": "stream",
          "name": "stdout",
          "text": [
            "[[1 3 5]\n",
            " [2 4 6]]\n",
            "<class 'numpy.ndarray'>\n",
            "(2, 3)\n"
          ]
        }
      ]
    },
    {
      "cell_type": "code",
      "source": [
        "x=np.ones([2, 3, 2]) #전부 1로 이루어짐\n",
        "print(x)\n",
        "print(type(x))\n",
        "print(x.shape)"
      ],
      "metadata": {
        "colab": {
          "base_uri": "https://localhost:8080/"
        },
        "id": "6TIK1X5e10vl",
        "outputId": "2182520f-345b-4169-c9ba-72b991535485"
      },
      "execution_count": null,
      "outputs": [
        {
          "output_type": "stream",
          "name": "stdout",
          "text": [
            "[[[1. 1.]\n",
            "  [1. 1.]\n",
            "  [1. 1.]]\n",
            "\n",
            " [[1. 1.]\n",
            "  [1. 1.]\n",
            "  [1. 1.]]]\n",
            "<class 'numpy.ndarray'>\n",
            "(2, 3, 2)\n"
          ]
        }
      ]
    },
    {
      "cell_type": "code",
      "source": [
        "x=np.zeros([5, 2, 4])\n",
        "print(x)\n",
        "print(type(x))\n",
        "print(x.shape)"
      ],
      "metadata": {
        "colab": {
          "base_uri": "https://localhost:8080/"
        },
        "id": "TLd-Ba7x4B9T",
        "outputId": "065aa465-8b1b-4fc2-c8f4-10e94f611501"
      },
      "execution_count": null,
      "outputs": [
        {
          "output_type": "stream",
          "name": "stdout",
          "text": [
            "[[[0. 0. 0. 0.]\n",
            "  [0. 0. 0. 0.]]\n",
            "\n",
            " [[0. 0. 0. 0.]\n",
            "  [0. 0. 0. 0.]]\n",
            "\n",
            " [[0. 0. 0. 0.]\n",
            "  [0. 0. 0. 0.]]\n",
            "\n",
            " [[0. 0. 0. 0.]\n",
            "  [0. 0. 0. 0.]]\n",
            "\n",
            " [[0. 0. 0. 0.]\n",
            "  [0. 0. 0. 0.]]]\n",
            "<class 'numpy.ndarray'>\n",
            "(5, 2, 4)\n"
          ]
        }
      ]
    },
    {
      "cell_type": "code",
      "source": [
        "import matplotlib.pyplot as plt"
      ],
      "metadata": {
        "id": "0J9zZQty48y-"
      },
      "execution_count": null,
      "outputs": []
    },
    {
      "cell_type": "code",
      "source": [
        "x=np.random.normal(0, 1, 50) #(x,y,z) -> x는 mean값, y는 standard값, z는 size\n",
        "print(x)\n",
        "plt.hist(x, bins=5) #히스토그램 막대 5개 안에 50개의 숫자 다 집어넣기\n"
      ],
      "metadata": {
        "colab": {
          "base_uri": "https://localhost:8080/",
          "height": 508
        },
        "id": "kL7Xpf6r5HNU",
        "outputId": "39603192-9b77-4eeb-9c40-f64101344070"
      },
      "execution_count": null,
      "outputs": [
        {
          "output_type": "stream",
          "name": "stdout",
          "text": [
            "[ 0.63138991  0.81757938 -0.85785034  0.80129303 -0.24302731  0.7096356\n",
            " -0.64300357  0.60782189  0.04901005  0.46872341  1.21842778  0.24842315\n",
            " -1.81335978 -1.14362953 -0.6967992   0.12949716  1.16749068 -1.35248414\n",
            " -0.9710074  -0.78703157 -1.26974803  0.39004523 -0.80463313  0.30056307\n",
            "  0.86813577 -0.42128282 -0.40272405  1.2537825   1.42195769 -1.36595694\n",
            " -1.2025549   1.7796502   0.41934751 -0.32825162 -0.29315502  0.82488013\n",
            " -0.77250835 -0.47991613  0.03229943  0.66332552 -0.64507764  0.2513473\n",
            " -1.08699977 -0.17729228 -0.91194569 -0.17423365  0.15468963  0.07068966\n",
            " -0.97787126 -0.03365498]\n"
          ]
        },
        {
          "output_type": "execute_result",
          "data": {
            "text/plain": [
              "(array([ 6., 14., 14., 11.,  5.]),\n",
              " array([-1.81335978, -1.09475779, -0.37615579,  0.34244621,  1.0610482 ,\n",
              "         1.7796502 ]),\n",
              " <a list of 5 Patch objects>)"
            ]
          },
          "metadata": {},
          "execution_count": 97
        },
        {
          "output_type": "display_data",
          "data": {
            "text/plain": [
              "<Figure size 432x288 with 1 Axes>"
            ],
            "image/png": "[encoded data removed]"
          },
          "metadata": {
            "needs_background": "light"
          }
        }
      ]
    },
    {
      "cell_type": "code",
      "source": [
        "plt.figure()\n",
        "\n",
        "theta1=np.linspace(0, 2*np.pi, 100) #input, 0도부터 360도까지(radian을 말하는 것, degree 아님)\n",
        "s1=np.sin(theta1) #output\n",
        "theta2=np.linspace(0, 2*np.pi, 100)+np.pi/2 #input, 90도부터 450도까지(radian을 말하는 것, degree 아님)\n",
        "s2=np.sin(theta2) #output\n",
        "\n",
        "plt.subplot(2, 1, 1) #(x,y,z) -> x는 row, y는 column, z는 몇 번째 그림인지를 말함\n",
        "plt.plot(theta1, s1, '.') #'.' -> 점 찍어서 그래프 그리라는 것\n",
        "plt.subplot(2, 1, 2) #(x,y,z) -> x는 row, y는 column, z는 몇 번째 그림인지를 말함\n",
        "plt.plot(theta2, s2, '.') #'.' -> 점 찍어서 그래프 그리라는 것"
      ],
      "metadata": {
        "colab": {
          "base_uri": "https://localhost:8080/",
          "height": 284
        },
        "id": "sI2zNTb85jq2",
        "outputId": "f4e94016-5151-4832-97c4-50206fcf56ee"
      },
      "execution_count": null,
      "outputs": [
        {
          "output_type": "execute_result",
          "data": {
            "text/plain": [
              "[<matplotlib.lines.Line2D at 0x7f219914ff90>]"
            ]
          },
          "metadata": {},
          "execution_count": 98
        },
        {
          "output_type": "display_data",
          "data": {
            "text/plain": [
              "<Figure size 432x288 with 2 Axes>"
            ],
            "image/png": "[encoded data removed]"
          },
          "metadata": {
            "needs_background": "light"
          }
        }
      ]
    },
    {
      "cell_type": "code",
      "source": [
        "np.corrcoef(s1,s2) #1.00000000e+00은 볼 필요 없음, 2.41915449e-17에서 e-17=10의 -17제곱을 의미함, 따라서 2.4195449e-17=2.41915449*e-17=0, 상관관계가 0임"
      ],
      "metadata": {
        "colab": {
          "base_uri": "https://localhost:8080/"
        },
        "id": "-lVQSbDF7Qyd",
        "outputId": "e417a329-864d-44aa-ec43-b8d4642a6fde"
      },
      "execution_count": null,
      "outputs": [
        {
          "output_type": "execute_result",
          "data": {
            "text/plain": [
              "array([[1.00000000e+00, 2.41915449e-17],\n",
              "       [2.41915449e-17, 1.00000000e+00]])"
            ]
          },
          "metadata": {},
          "execution_count": 99
        }
      ]
    }
  ]
}