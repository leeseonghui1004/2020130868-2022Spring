{
  "nbformat": 4,
  "nbformat_minor": 0,
  "metadata": {
    "colab": {
      "name": "20220328.ipynb",
      "provenance": [],
      "authorship_tag": "ABX9TyNqNd2PMltSbYci4bA02lKl",
      "include_colab_link": true
    },
    "kernelspec": {
      "name": "python3",
      "display_name": "Python 3"
    },
    "language_info": {
      "name": "python"
    }
  },
  "cells": [
    {
      "cell_type": "markdown",
      "metadata": {
        "id": "view-in-github",
        "colab_type": "text"
      },
      "source": [
        "<a href=\"https://colab.research.google.com/github/leeseonghui1004/leeseonghui-2022Spring/blob/main/20220328.ipynb\" target=\"_parent\"><img src=\"https://colab.research.google.com/assets/colab-badge.svg\" alt=\"Open In Colab\"/></a>"
      ]
    },
    {
      "cell_type": "code",
      "execution_count": 1,
      "metadata": {
        "colab": {
          "base_uri": "https://localhost:8080/"
        },
        "id": "dMSjyQl4I3C2",
        "outputId": "7a34716c-ad16-4c05-e38b-0ecd7b53e007"
      },
      "outputs": [
        {
          "output_type": "stream",
          "name": "stdout",
          "text": [
            "Collecting gradio\n",
            "  Downloading gradio-2.9.1-py3-none-any.whl (1.7 MB)\n",
            "\u001b[K     |████████████████████████████████| 1.7 MB 8.1 MB/s \n",
            "\u001b[?25hRequirement already satisfied: numpy in /usr/local/lib/python3.7/dist-packages (from gradio) (1.21.5)\n",
            "Collecting pydub\n",
            "  Downloading pydub-0.25.1-py2.py3-none-any.whl (32 kB)\n",
            "Collecting fastapi\n",
            "  Downloading fastapi-0.75.1-py3-none-any.whl (54 kB)\n",
            "\u001b[K     |████████████████████████████████| 54 kB 3.9 MB/s \n",
            "\u001b[?25hCollecting uvicorn\n",
            "  Downloading uvicorn-0.17.6-py3-none-any.whl (53 kB)\n",
            "\u001b[K     |████████████████████████████████| 53 kB 1.6 MB/s \n",
            "\u001b[?25hCollecting markdown-it-py[linkify,plugins]\n",
            "  Downloading markdown_it_py-2.0.1-py3-none-any.whl (84 kB)\n",
            "\u001b[K     |████████████████████████████████| 84 kB 2.8 MB/s \n",
            "\u001b[?25hRequirement already satisfied: matplotlib in /usr/local/lib/python3.7/dist-packages (from gradio) (3.2.2)\n",
            "Collecting analytics-python\n",
            "  Downloading analytics_python-1.4.0-py2.py3-none-any.whl (15 kB)\n",
            "Requirement already satisfied: pandas in /usr/local/lib/python3.7/dist-packages (from gradio) (1.3.5)\n",
            "Collecting paramiko\n",
            "  Downloading paramiko-2.10.3-py2.py3-none-any.whl (211 kB)\n",
            "\u001b[K     |████████████████████████████████| 211 kB 70.1 MB/s \n",
            "\u001b[?25hCollecting pycryptodome\n",
            "  Downloading pycryptodome-3.14.1-cp35-abi3-manylinux2010_x86_64.whl (2.0 MB)\n",
            "\u001b[K     |████████████████████████████████| 2.0 MB 57.2 MB/s \n",
            "\u001b[?25hCollecting python-multipart\n",
            "  Downloading python-multipart-0.0.5.tar.gz (32 kB)\n",
            "Requirement already satisfied: requests in /usr/local/lib/python3.7/dist-packages (from gradio) (2.23.0)\n",
            "Collecting aiohttp\n",
            "  Downloading aiohttp-3.8.1-cp37-cp37m-manylinux_2_5_x86_64.manylinux1_x86_64.manylinux_2_12_x86_64.manylinux2010_x86_64.whl (1.1 MB)\n",
            "\u001b[K     |████████████████████████████████| 1.1 MB 35.8 MB/s \n",
            "\u001b[?25hCollecting ffmpy\n",
            "  Downloading ffmpy-0.3.0.tar.gz (4.8 kB)\n",
            "Collecting orjson\n",
            "  Downloading orjson-3.6.7-cp37-cp37m-manylinux_2_24_x86_64.whl (255 kB)\n",
            "\u001b[K     |████████████████████████████████| 255 kB 46.8 MB/s \n",
            "\u001b[?25hRequirement already satisfied: pillow in /usr/local/lib/python3.7/dist-packages (from gradio) (7.1.2)\n",
            "Requirement already satisfied: charset-normalizer<3.0,>=2.0 in /usr/local/lib/python3.7/dist-packages (from aiohttp->gradio) (2.0.12)\n",
            "Collecting aiosignal>=1.1.2\n",
            "  Downloading aiosignal-1.2.0-py3-none-any.whl (8.2 kB)\n",
            "Collecting asynctest==0.13.0\n",
            "  Downloading asynctest-0.13.0-py3-none-any.whl (26 kB)\n",
            "Collecting frozenlist>=1.1.1\n",
            "  Downloading frozenlist-1.3.0-cp37-cp37m-manylinux_2_5_x86_64.manylinux1_x86_64.manylinux_2_17_x86_64.manylinux2014_x86_64.whl (144 kB)\n",
            "\u001b[K     |████████████████████████████████| 144 kB 46.5 MB/s \n",
            "\u001b[?25hCollecting async-timeout<5.0,>=4.0.0a3\n",
            "  Downloading async_timeout-4.0.2-py3-none-any.whl (5.8 kB)\n",
            "Collecting yarl<2.0,>=1.0\n",
            "  Downloading yarl-1.7.2-cp37-cp37m-manylinux_2_5_x86_64.manylinux1_x86_64.manylinux_2_12_x86_64.manylinux2010_x86_64.whl (271 kB)\n",
            "\u001b[K     |████████████████████████████████| 271 kB 45.3 MB/s \n",
            "\u001b[?25hRequirement already satisfied: typing-extensions>=3.7.4 in /usr/local/lib/python3.7/dist-packages (from aiohttp->gradio) (3.10.0.2)\n",
            "Collecting multidict<7.0,>=4.5\n",
            "  Downloading multidict-6.0.2-cp37-cp37m-manylinux_2_17_x86_64.manylinux2014_x86_64.whl (94 kB)\n",
            "\u001b[K     |████████████████████████████████| 94 kB 4.1 MB/s \n",
            "\u001b[?25hRequirement already satisfied: attrs>=17.3.0 in /usr/local/lib/python3.7/dist-packages (from aiohttp->gradio) (21.4.0)\n",
            "Requirement already satisfied: idna>=2.0 in /usr/local/lib/python3.7/dist-packages (from yarl<2.0,>=1.0->aiohttp->gradio) (2.10)\n",
            "Requirement already satisfied: six>=1.5 in /usr/local/lib/python3.7/dist-packages (from analytics-python->gradio) (1.15.0)\n",
            "Collecting backoff==1.10.0\n",
            "  Downloading backoff-1.10.0-py2.py3-none-any.whl (31 kB)\n",
            "Requirement already satisfied: python-dateutil>2.1 in /usr/local/lib/python3.7/dist-packages (from analytics-python->gradio) (2.8.2)\n",
            "Collecting monotonic>=1.5\n",
            "  Downloading monotonic-1.6-py2.py3-none-any.whl (8.2 kB)\n",
            "Requirement already satisfied: certifi>=2017.4.17 in /usr/local/lib/python3.7/dist-packages (from requests->gradio) (2021.10.8)\n",
            "Requirement already satisfied: chardet<4,>=3.0.2 in /usr/local/lib/python3.7/dist-packages (from requests->gradio) (3.0.4)\n",
            "Requirement already satisfied: urllib3!=1.25.0,!=1.25.1,<1.26,>=1.21.1 in /usr/local/lib/python3.7/dist-packages (from requests->gradio) (1.24.3)\n",
            "Collecting pydantic!=1.7,!=1.7.1,!=1.7.2,!=1.7.3,!=1.8,!=1.8.1,<2.0.0,>=1.6.2\n",
            "  Downloading pydantic-1.9.0-cp37-cp37m-manylinux_2_17_x86_64.manylinux2014_x86_64.whl (10.9 MB)\n",
            "\u001b[K     |████████████████████████████████| 10.9 MB 62.5 MB/s \n",
            "\u001b[?25hCollecting starlette==0.17.1\n",
            "  Downloading starlette-0.17.1-py3-none-any.whl (58 kB)\n",
            "\u001b[K     |████████████████████████████████| 58 kB 6.6 MB/s \n",
            "\u001b[?25hCollecting anyio<4,>=3.0.0\n",
            "  Downloading anyio-3.5.0-py3-none-any.whl (79 kB)\n",
            "\u001b[K     |████████████████████████████████| 79 kB 10.3 MB/s \n",
            "\u001b[?25hCollecting sniffio>=1.1\n",
            "  Downloading sniffio-1.2.0-py3-none-any.whl (10 kB)\n",
            "Collecting mdurl~=0.1\n",
            "  Downloading mdurl-0.1.0-py3-none-any.whl (11 kB)\n",
            "Collecting linkify-it-py~=1.0\n",
            "  Downloading linkify_it_py-1.0.3-py3-none-any.whl (19 kB)\n",
            "Collecting mdit-py-plugins\n",
            "  Downloading mdit_py_plugins-0.3.0-py3-none-any.whl (43 kB)\n",
            "\u001b[K     |████████████████████████████████| 43 kB 2.4 MB/s \n",
            "\u001b[?25hCollecting uc-micro-py\n",
            "  Downloading uc_micro_py-1.0.1-py3-none-any.whl (6.2 kB)\n",
            "Requirement already satisfied: kiwisolver>=1.0.1 in /usr/local/lib/python3.7/dist-packages (from matplotlib->gradio) (1.4.0)\n",
            "Requirement already satisfied: cycler>=0.10 in /usr/local/lib/python3.7/dist-packages (from matplotlib->gradio) (0.11.0)\n",
            "Requirement already satisfied: pyparsing!=2.0.4,!=2.1.2,!=2.1.6,>=2.0.1 in /usr/local/lib/python3.7/dist-packages (from matplotlib->gradio) (3.0.7)\n",
            "Requirement already satisfied: pytz>=2017.3 in /usr/local/lib/python3.7/dist-packages (from pandas->gradio) (2018.9)\n",
            "Collecting bcrypt>=3.1.3\n",
            "  Downloading bcrypt-3.2.0-cp36-abi3-manylinux_2_17_x86_64.manylinux2014_x86_64.manylinux_2_24_x86_64.whl (61 kB)\n",
            "\u001b[K     |████████████████████████████████| 61 kB 556 kB/s \n",
            "\u001b[?25hCollecting pynacl>=1.0.1\n",
            "  Downloading PyNaCl-1.5.0-cp36-abi3-manylinux_2_17_x86_64.manylinux2014_x86_64.manylinux_2_24_x86_64.whl (856 kB)\n",
            "\u001b[K     |████████████████████████████████| 856 kB 57.5 MB/s \n",
            "\u001b[?25hCollecting cryptography>=2.5\n",
            "  Downloading cryptography-36.0.2-cp36-abi3-manylinux_2_24_x86_64.whl (3.6 MB)\n",
            "\u001b[K     |████████████████████████████████| 3.6 MB 42.9 MB/s \n",
            "\u001b[?25hRequirement already satisfied: cffi>=1.1 in /usr/local/lib/python3.7/dist-packages (from bcrypt>=3.1.3->paramiko->gradio) (1.15.0)\n",
            "Requirement already satisfied: pycparser in /usr/local/lib/python3.7/dist-packages (from cffi>=1.1->bcrypt>=3.1.3->paramiko->gradio) (2.21)\n",
            "Collecting asgiref>=3.4.0\n",
            "  Downloading asgiref-3.5.0-py3-none-any.whl (22 kB)\n",
            "Collecting h11>=0.8\n",
            "  Downloading h11-0.13.0-py3-none-any.whl (58 kB)\n",
            "\u001b[K     |████████████████████████████████| 58 kB 6.7 MB/s \n",
            "\u001b[?25hRequirement already satisfied: click>=7.0 in /usr/local/lib/python3.7/dist-packages (from uvicorn->gradio) (7.1.2)\n",
            "Building wheels for collected packages: ffmpy, python-multipart\n",
            "  Building wheel for ffmpy (setup.py) ... \u001b[?25l\u001b[?25hdone\n",
            "  Created wheel for ffmpy: filename=ffmpy-0.3.0-py3-none-any.whl size=4712 sha256=86c85bf9a0b1422a49b015351fedc4c9dcf34088549c607d58263ee1700b65ad\n",
            "  Stored in directory: /root/.cache/pip/wheels/13/e4/6c/e8059816e86796a597c6e6b0d4c880630f51a1fcfa0befd5e6\n",
            "  Building wheel for python-multipart (setup.py) ... \u001b[?25l\u001b[?25hdone\n",
            "  Created wheel for python-multipart: filename=python_multipart-0.0.5-py3-none-any.whl size=31678 sha256=7e0ec9809864181eb15dc73972ccc17e5be133fa7c6814f969d9aad43cc4e717\n",
            "  Stored in directory: /root/.cache/pip/wheels/2c/41/7c/bfd1c180534ffdcc0972f78c5758f89881602175d48a8bcd2c\n",
            "Successfully built ffmpy python-multipart\n",
            "Installing collected packages: sniffio, mdurl, uc-micro-py, multidict, markdown-it-py, frozenlist, anyio, yarl, starlette, pynacl, pydantic, monotonic, mdit-py-plugins, linkify-it-py, h11, cryptography, bcrypt, backoff, asynctest, async-timeout, asgiref, aiosignal, uvicorn, python-multipart, pydub, pycryptodome, paramiko, orjson, ffmpy, fastapi, analytics-python, aiohttp, gradio\n",
            "Successfully installed aiohttp-3.8.1 aiosignal-1.2.0 analytics-python-1.4.0 anyio-3.5.0 asgiref-3.5.0 async-timeout-4.0.2 asynctest-0.13.0 backoff-1.10.0 bcrypt-3.2.0 cryptography-36.0.2 fastapi-0.75.1 ffmpy-0.3.0 frozenlist-1.3.0 gradio-2.9.1 h11-0.13.0 linkify-it-py-1.0.3 markdown-it-py-2.0.1 mdit-py-plugins-0.3.0 mdurl-0.1.0 monotonic-1.6 multidict-6.0.2 orjson-3.6.7 paramiko-2.10.3 pycryptodome-3.14.1 pydantic-1.9.0 pydub-0.25.1 pynacl-1.5.0 python-multipart-0.0.5 sniffio-1.2.0 starlette-0.17.1 uc-micro-py-1.0.1 uvicorn-0.17.6 yarl-1.7.2\n"
          ]
        }
      ],
      "source": [
        "!pip install gradio\n",
        "import gradio as gr\n",
        "import requests\n",
        "import pandas as pd"
      ]
    },
    {
      "cell_type": "code",
      "source": [
        "URL=('http://apis.data.go.kr/B500001/drghtSGIIdex_20211020/operInfoList_20211020?obsrvtCd=11749&stDt=20191201&edDt=20191231&numOfRows=100&pageNo=1&serviceKey=sSDiCmHVW9iO5cs%2Ff4V%2FDJll%2F1c5L7ZpwqxxfelRvWMzNBA55dY0IVLfwiZd%2BpSsTlfxMxZ5LWtvhTOKB3U7aA%3D%3D&_type=json')\n",
        "response=requests.get(URL)"
      ],
      "metadata": {
        "id": "UPkbvGrDI9sB"
      },
      "execution_count": 2,
      "outputs": []
    },
    {
      "cell_type": "code",
      "source": [
        "response"
      ],
      "metadata": {
        "colab": {
          "base_uri": "https://localhost:8080/"
        },
        "id": "XHmkiUBhLhQd",
        "outputId": "76e912f9-f4ba-4f00-a231-7b998c084bd1"
      },
      "execution_count": 3,
      "outputs": [
        {
          "output_type": "execute_result",
          "data": {
            "text/plain": [
              "<Response [200]>"
            ]
          },
          "metadata": {},
          "execution_count": 3
        }
      ]
    },
    {
      "cell_type": "code",
      "source": [
        "r=response.json()\n",
        "r"
      ],
      "metadata": {
        "colab": {
          "base_uri": "https://localhost:8080/"
        },
        "id": "q-yQSYibLkdx",
        "outputId": "1d45309e-dcaa-4c05-dede-9050ea35047b"
      },
      "execution_count": 4,
      "outputs": [
        {
          "output_type": "execute_result",
          "data": {
            "text/plain": [
              "{'response': {'body': {'items': {'item': [{'anldt': 20191201,\n",
              "      'anlrst': '정상',\n",
              "      'obsrvtcd': 11749,\n",
              "      'obsrvtnm': '동해귀운',\n",
              "      'ugrwtrl': 75},\n",
              "     {'anldt': 20191202,\n",
              "      'anlrst': '정상',\n",
              "      'obsrvtcd': 11749,\n",
              "      'obsrvtnm': '동해귀운',\n",
              "      'ugrwtrl': 7.833},\n",
              "     {'anldt': 20191203,\n",
              "      'anlrst': '정상',\n",
              "      'obsrvtcd': 11749,\n",
              "      'obsrvtnm': '동해귀운',\n",
              "      'ugrwtrl': 7.777},\n",
              "     {'anldt': 20191204,\n",
              "      'anlrst': '정상',\n",
              "      'obsrvtcd': 11749,\n",
              "      'obsrvtnm': '동해귀운',\n",
              "      'ugrwtrl': 7.708},\n",
              "     {'anldt': 20191205,\n",
              "      'anlrst': '정상',\n",
              "      'obsrvtcd': 11749,\n",
              "      'obsrvtnm': '동해귀운',\n",
              "      'ugrwtrl': 7.742},\n",
              "     {'anldt': 20191206,\n",
              "      'anlrst': '정상',\n",
              "      'obsrvtcd': 11749,\n",
              "      'obsrvtnm': '동해귀운',\n",
              "      'ugrwtrl': 7.676},\n",
              "     {'anldt': 20191207,\n",
              "      'anlrst': '정상',\n",
              "      'obsrvtcd': 11749,\n",
              "      'obsrvtnm': '동해귀운',\n",
              "      'ugrwtrl': 7.628},\n",
              "     {'anldt': 20191208,\n",
              "      'anlrst': '정상',\n",
              "      'obsrvtcd': 11749,\n",
              "      'obsrvtnm': '동해귀운',\n",
              "      'ugrwtrl': 7.612},\n",
              "     {'anldt': 20191209,\n",
              "      'anlrst': '정상',\n",
              "      'obsrvtcd': 11749,\n",
              "      'obsrvtnm': '동해귀운',\n",
              "      'ugrwtrl': 7.597},\n",
              "     {'anldt': 20191210,\n",
              "      'anlrst': '정상',\n",
              "      'obsrvtcd': 11749,\n",
              "      'obsrvtnm': '동해귀운',\n",
              "      'ugrwtrl': 7.582},\n",
              "     {'anldt': 20191211,\n",
              "      'anlrst': '정상',\n",
              "      'obsrvtcd': 11749,\n",
              "      'obsrvtnm': '동해귀운',\n",
              "      'ugrwtrl': 7.566},\n",
              "     {'anldt': 20191212,\n",
              "      'anlrst': '정상',\n",
              "      'obsrvtcd': 11749,\n",
              "      'obsrvtnm': '동해귀운',\n",
              "      'ugrwtrl': 7.566},\n",
              "     {'anldt': 20191213,\n",
              "      'anlrst': '정상',\n",
              "      'obsrvtcd': 11749,\n",
              "      'obsrvtnm': '동해귀운',\n",
              "      'ugrwtrl': 7.458},\n",
              "     {'anldt': 20191214,\n",
              "      'anlrst': '정상',\n",
              "      'obsrvtcd': 11749,\n",
              "      'obsrvtnm': '동해귀운',\n",
              "      'ugrwtrl': 7.409},\n",
              "     {'anldt': 20191215,\n",
              "      'anlrst': '정상',\n",
              "      'obsrvtcd': 11749,\n",
              "      'obsrvtnm': '동해귀운',\n",
              "      'ugrwtrl': 7.426},\n",
              "     {'anldt': 20191216,\n",
              "      'anlrst': '정상',\n",
              "      'obsrvtcd': 11749,\n",
              "      'obsrvtnm': '동해귀운',\n",
              "      'ugrwtrl': 7.357},\n",
              "     {'anldt': 20191217,\n",
              "      'anlrst': '정상',\n",
              "      'obsrvtcd': 11749,\n",
              "      'obsrvtnm': '동해귀운',\n",
              "      'ugrwtrl': 7.357},\n",
              "     {'anldt': 20191218,\n",
              "      'anlrst': '정상',\n",
              "      'obsrvtcd': 11749,\n",
              "      'obsrvtnm': '동해귀운',\n",
              "      'ugrwtrl': 7.409},\n",
              "     {'anldt': 20191219,\n",
              "      'anlrst': '정상',\n",
              "      'obsrvtcd': 11749,\n",
              "      'obsrvtnm': '동해귀운',\n",
              "      'ugrwtrl': 7.474},\n",
              "     {'anldt': 20191220,\n",
              "      'anlrst': '정상',\n",
              "      'obsrvtcd': 11749,\n",
              "      'obsrvtnm': '동해귀운',\n",
              "      'ugrwtrl': 7.442},\n",
              "     {'anldt': 20191221,\n",
              "      'anlrst': '정상',\n",
              "      'obsrvtcd': 11749,\n",
              "      'obsrvtnm': '동해귀운',\n",
              "      'ugrwtrl': 7.299},\n",
              "     {'anldt': 20191222,\n",
              "      'anlrst': '정상',\n",
              "      'obsrvtcd': 11749,\n",
              "      'obsrvtnm': '동해귀운',\n",
              "      'ugrwtrl': 7.232},\n",
              "     {'anldt': 20191223,\n",
              "      'anlrst': '정상',\n",
              "      'obsrvtcd': 11749,\n",
              "      'obsrvtnm': '동해귀운',\n",
              "      'ugrwtrl': 7.179},\n",
              "     {'anldt': 20191224,\n",
              "      'anlrst': '정상',\n",
              "      'obsrvtcd': 11749,\n",
              "      'obsrvtnm': '동해귀운',\n",
              "      'ugrwtrl': 7.116},\n",
              "     {'anldt': 20191225,\n",
              "      'anlrst': '정상',\n",
              "      'obsrvtcd': 11749,\n",
              "      'obsrvtnm': '동해귀운',\n",
              "      'ugrwtrl': 7.038},\n",
              "     {'anldt': 20191226,\n",
              "      'anlrst': '정상',\n",
              "      'obsrvtcd': 11749,\n",
              "      'obsrvtnm': '동해귀운',\n",
              "      'ugrwtrl': 6.993},\n",
              "     {'anldt': 20191227,\n",
              "      'anlrst': '정상',\n",
              "      'obsrvtcd': 11749,\n",
              "      'obsrvtnm': '동해귀운',\n",
              "      'ugrwtrl': 6.892},\n",
              "     {'anldt': 20191228,\n",
              "      'anlrst': '정상',\n",
              "      'obsrvtcd': 11749,\n",
              "      'obsrvtnm': '동해귀운',\n",
              "      'ugrwtrl': 6.838},\n",
              "     {'anldt': 20191229,\n",
              "      'anlrst': '정상',\n",
              "      'obsrvtcd': 11749,\n",
              "      'obsrvtnm': '동해귀운',\n",
              "      'ugrwtrl': 6.726},\n",
              "     {'anldt': 20191230,\n",
              "      'anlrst': '정상',\n",
              "      'obsrvtcd': 11749,\n",
              "      'obsrvtnm': '동해귀운',\n",
              "      'ugrwtrl': 6.667},\n",
              "     {'anldt': 20191231,\n",
              "      'anlrst': '정상',\n",
              "      'obsrvtcd': 11749,\n",
              "      'obsrvtnm': '동해귀운',\n",
              "      'ugrwtrl': 6.607}]},\n",
              "   'numOfRows': 100,\n",
              "   'pageNo': 1,\n",
              "   'totalCount': 31},\n",
              "  'header': {'resultCode': '00', 'resultMsg': 'NORMAL SERVICE.'}}}"
            ]
          },
          "metadata": {},
          "execution_count": 4
        }
      ]
    },
    {
      "cell_type": "code",
      "source": [
        "items=r['response']['body']['items']['item']\n",
        "\n",
        "anldt=[item['anldt'] for item in items]\n",
        "anlrst=[item['anlrst'] for item in items]\n",
        "obsrvtcd=[item['obsrvtcd'] for item in items]\n",
        "obsrvtnm=[item['obsrvtnm'] for item in items]\n",
        "ugrwtrl=[item['ugrwtrl'] for item in items]\n",
        "\n",
        "anldt=pd.Series(anldt)\n",
        "anlrst=pd.Series(anlrst)\n",
        "obsrvtcd=pd.Series(obsrvtcd)\n",
        "obsrvtnm=pd.Series(obsrvtnm)\n",
        "ugrwtrl=pd.Series(ugrwtrl)\n",
        "\n",
        "df=pd.DataFrame({'anldt':anldt, 'anlrst':anlrst, 'obsrvtcd':obsrvtcd, 'obsrvtnm':obsrvtnm, 'ugrwtrl':ugrwtrl})"
      ],
      "metadata": {
        "id": "193ODyT3xlTn"
      },
      "execution_count": 5,
      "outputs": []
    },
    {
      "cell_type": "code",
      "source": [
        "def test(input_data):\n",
        "  URL=('http://apis.data.go.kr/B500001/drghtSGIIdex_20211020/operInfoList_20211020?&obsrvtCd={}&stDt=20191201&edDt=20191231&numOfRows=100&pageNo=1&serviceKey=sSDiCmHVW9iO5cs%2Ff4V%2FDJll%2F1c5L7ZpwqxxfelRvWMzNBA55dY0IVLfwiZd%2BpSsTlfxMxZ5LWtvhTOKB3U7aA%3D%3D&_type=json'.format(input_data))\n",
        "\n",
        "  response=requests.get(URL)\n",
        "  r=response.json()\n",
        "  items=r['response']['body']['items']['item']\n",
        "\n",
        "  anldt=[item['anldt'] for item in items]\n",
        "  anlrst=[item['anlrst'] for item in items]\n",
        "  obsrvtcd=[item['obsrvtcd'] for item in items]\n",
        "  obsrvtnm=[item['obsrvtnm'] for item in items]\n",
        "  ugrwtrl=[item['ugrwtrl'] for item in items]\n",
        "\n",
        "  anldt=pd.Series(anldt)\n",
        "  anlrst=pd.Series(anlrst)\n",
        "  obsrvtcd=pd.Series(obsrvtcd)\n",
        "  obsrvtnm=pd.Series(obsrvtnm)\n",
        "  ugrwtrl=pd.Series(ugrwtrl)\n",
        "\n",
        "  df=pd.DataFrame({'anldt': anldt, 'anlrst': anlrst, 'obsrvtcd': obsrvtcd, 'obsrvtnm': obsrvtnm, 'ugrwtrl': ugrwtrl})\n",
        "  return df"
      ],
      "metadata": {
        "id": "fqKWR5Mf1QZK"
      },
      "execution_count": 10,
      "outputs": []
    },
    {
      "cell_type": "code",
      "source": [
        "iface=gr.Interface(test, gr.inputs.Dropdown(['05723', '06752', '09250', '09900', '11739', '11749', '11751', '40542']), outputs=['dataframe'])\n",
        "iface.launch(debug=True)"
      ],
      "metadata": {
        "colab": {
          "base_uri": "https://localhost:8080/",
          "height": 669
        },
        "id": "GHB-5BDj2AgW",
        "outputId": "79470019-a12b-4000-cc62-c624abd9669a"
      },
      "execution_count": 13,
      "outputs": [
        {
          "output_type": "stream",
          "name": "stdout",
          "text": [
            "Colab notebook detected. This cell will run indefinitely so that you can see errors and logs. To turn off, set debug=False in launch().\n",
            "Running on public URL: https://16789.gradio.app\n",
            "\n",
            "This share link expires in 72 hours. For free permanent hosting, check out Spaces (https://huggingface.co/spaces)\n"
          ]
        },
        {
          "output_type": "display_data",
          "data": {
            "text/plain": [
              "<IPython.lib.display.IFrame at 0x7f75ff2bbc90>"
            ],
            "text/html": [
              "\n",
              "        <iframe\n",
              "            width=\"900\"\n",
              "            height=\"500\"\n",
              "            src=\"https://16789.gradio.app\"\n",
              "            frameborder=\"0\"\n",
              "            allowfullscreen\n",
              "        ></iframe>\n",
              "        "
            ]
          },
          "metadata": {}
        },
        {
          "output_type": "stream",
          "name": "stdout",
          "text": [
            "Keyboard interruption in main thread... closing server.\n"
          ]
        },
        {
          "output_type": "execute_result",
          "data": {
            "text/plain": [
              "(<fastapi.applications.FastAPI at 0x7f760920e6d0>,\n",
              " 'http://127.0.0.1:7860/',\n",
              " 'https://16789.gradio.app')"
            ]
          },
          "metadata": {},
          "execution_count": 13
        }
      ]
    }
  ]
}